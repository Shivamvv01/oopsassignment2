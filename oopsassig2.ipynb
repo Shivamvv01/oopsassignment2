{
 "cells": [
  {
   "cell_type": "markdown",
   "id": "126b89b5-6216-4856-8b41-e019bf08b3fb",
   "metadata": {},
   "source": [
    "Q1. What is Abstraction in OOps? Explain with an example."
   ]
  },
  {
   "cell_type": "markdown",
   "id": "de5224ef-0df8-40bd-8b38-c574c868ad81",
   "metadata": {},
   "source": [
    "Ans:- which allows us to represent the essential features of an object while hiding unnecessary details. It involves focusing on what an object does (its behavior) rather than how it does it (its implementation). Abstraction simplifies the complexity of the underlying system by providing a high-level view, making it easier for developers to understand and work with the code."
   ]
  },
  {
   "cell_type": "code",
   "execution_count": 3,
   "id": "89a62e4d-b784-4b21-8187-a8635dc3242a",
   "metadata": {},
   "outputs": [
    {
     "name": "stdout",
     "output_type": "stream",
     "text": [
      "Circle Area: 78.5\n"
     ]
    }
   ],
   "source": [
    "from abc import ABC, abstractmethod\n",
    "\n",
    "class Shape(ABC):\n",
    "    @abstractmethod\n",
    "    def area(self):\n",
    "        pass\n",
    "\n",
    "class Circle(Shape):\n",
    "    def __init__(self, radius):\n",
    "        self.radius = radius\n",
    "\n",
    "    def area(self):\n",
    "        return 3.14 * self.radius * self.radius\n",
    "    \n",
    "circle = Circle(5)\n",
    "print(\"Circle Area:\", circle.area())"
   ]
  },
  {
   "cell_type": "markdown",
   "id": "e7d2cd20-faed-45e3-9fcb-eb769cf5ace4",
   "metadata": {},
   "source": [
    "Q2. Differentiate between Abstraction and Encapsulation. Explain with an example."
   ]
  },
  {
   "cell_type": "markdown",
   "id": "fca6e1d5-c925-4ca2-b9ea-541aeb8d41ba",
   "metadata": {},
   "source": [
    "Ans:- Abstraction is the process of hiding the implementation details of an object and exposing only the essential features to the outside world. It focuses on defining the interface and behavior of an object, without providing the internal implementation. Abstraction helps to create a simplified view of the object, making it easier to understand and use.\n",
    "\n",
    "Encapsulation is the process of bundling data and methods that operate on the data within a single unit, called a class. It restricts direct access to the data from outside the class and allows access only through the class's defined methods. Encapsulation helps to protect the data from unauthorized access and modification, providing data security and maintaining the integrity of the object's state."
   ]
  },
  {
   "cell_type": "code",
   "execution_count": 5,
   "id": "bce7e82e-243d-48e5-8b41-b6e36dc7397e",
   "metadata": {},
   "outputs": [
    {
     "name": "stdout",
     "output_type": "stream",
     "text": [
      "Circle Area: 12.56\n"
     ]
    }
   ],
   "source": [
    "from abc import ABC, abstractmethod\n",
    "\n",
    "class Shape(ABC):\n",
    "    @abstractmethod\n",
    "    def area(self):\n",
    "        pass\n",
    "\n",
    "class Circle(Shape):\n",
    "    def __init__(self, radius):\n",
    "        self.radius = radius\n",
    "\n",
    "    def area(self):\n",
    "        return 3.14 * self.radius * self.radius\n",
    "    \n",
    "circle = Circle(2)\n",
    "print(\"Circle Area:\", circle.area())"
   ]
  },
  {
   "cell_type": "code",
   "execution_count": 10,
   "id": "b5216c89-4e4a-41a0-aa70-9ea7eddc48c0",
   "metadata": {},
   "outputs": [
    {
     "data": {
      "text/plain": [
       "545"
      ]
     },
     "execution_count": 10,
     "metadata": {},
     "output_type": "execute_result"
    }
   ],
   "source": [
    "class car:\n",
    "    def __init__(self,year,make,model,speed):\n",
    "        self.__year=year\n",
    "        self.__make=make\n",
    "        self.__model=model\n",
    "        self.__speed=speed\n",
    "    def set_speed(self,speed):\n",
    "        self.__speed=0 if speed<0 else speed\n",
    "    def get_speed(self):\n",
    "        return self.__speed\n",
    "c=car(2012,\"Toyoto\",\"Innova\",45)\n",
    "c.set_speed(545)\n",
    "c.get_speed()"
   ]
  },
  {
   "cell_type": "markdown",
   "id": "79e0e96b-8c69-4437-b2e4-29054cda201a",
   "metadata": {},
   "source": [
    "Q3. What is abc module in python? Why is it used?"
   ]
  },
  {
   "cell_type": "markdown",
   "id": "6df79a96-2825-4f4d-ad61-bc82c9cdb66e",
   "metadata": {},
   "source": [
    "Ans:- The abc module stands for \"Abstract Base Classes.\" It provides tools for working with abstract classes and interfaces. Abstract classes are classes that cannot be instantiated directly and are intended to be used as blueprints for other classes. Abstract classes define a set of methods that subclasses must implement, but they do not provide any concrete implementation for those methods.\n",
    "\n",
    "Abstract Base Classes: The ABC class is used to create abstract base classes.\n",
    "@abstractmethod decorator: The @abstractmethod decorator is used to mark methods as abstract methods"
   ]
  },
  {
   "cell_type": "markdown",
   "id": "5b387ff8-8bf6-436d-987a-9fd1141fba65",
   "metadata": {},
   "source": [
    "Q4. How can we achieve data abstraction?"
   ]
  },
  {
   "cell_type": "markdown",
   "id": "cc8f0ee7-ff61-4ffe-84f7-cf53ed45b7f3",
   "metadata": {},
   "source": [
    "Ans:- We can define an abstract method using @abstractmethod keyword on the top of a method. We can use abc module of python to achieve data abstraction in python. To define an abstract method in python we can import abstractmethod from the abc module of python."
   ]
  },
  {
   "cell_type": "markdown",
   "id": "59b59e58-6242-4b4d-8780-735f3d22713d",
   "metadata": {},
   "source": [
    "Q5. Can we create an instance of an abstract class? Explain your answer."
   ]
  },
  {
   "cell_type": "code",
   "execution_count": null,
   "id": "e7ee3cff-bda8-4ec1-aacf-60f5c5621627",
   "metadata": {},
   "outputs": [],
   "source": []
  },
  {
   "cell_type": "code",
   "execution_count": null,
   "id": "de26feb3-9168-40f2-9b48-2be75e70093f",
   "metadata": {},
   "outputs": [],
   "source": []
  }
 ],
 "metadata": {
  "kernelspec": {
   "display_name": "Python 3 (ipykernel)",
   "language": "python",
   "name": "python3"
  },
  "language_info": {
   "codemirror_mode": {
    "name": "ipython",
    "version": 3
   },
   "file_extension": ".py",
   "mimetype": "text/x-python",
   "name": "python",
   "nbconvert_exporter": "python",
   "pygments_lexer": "ipython3",
   "version": "3.10.8"
  }
 },
 "nbformat": 4,
 "nbformat_minor": 5
}
